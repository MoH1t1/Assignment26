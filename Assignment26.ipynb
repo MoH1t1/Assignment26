{
  "metadata": {
    "kernelspec": {
      "name": "python",
      "display_name": "Python (Pyodide)",
      "language": "python"
    },
    "language_info": {
      "codemirror_mode": {
        "name": "python",
        "version": 3
      },
      "file_extension": ".py",
      "mimetype": "text/x-python",
      "name": "python",
      "nbconvert_exporter": "python",
      "pygments_lexer": "ipython3",
      "version": "3.8"
    }
  },
  "nbformat_minor": 4,
  "nbformat": 4,
  "cells": [
    {
      "cell_type": "code",
      "source": "# Q1. How can you create a Bokeh plot using Python code?\n\nfrom bokeh.plotting import figure, show\nx = [1, 2, 3]\ny = [4, 5, 6]\n\np = figure(title=\"Line Plot\", x_axis_label=\"X-Axis\", y_axis_label=\"Y-Axis\")\np.line(x, y, line_width=2, color=\"blue\")\nshow(p)\n",
      "metadata": {
        "trusted": true
      },
      "outputs": [],
      "execution_count": 3
    },
    {
      "cell_type": "code",
      "source": "# Q2. What are glyphs in Bokeh, and how can you add them to a Bokeh plot? Explain with an example.\n\n# In Bokeh, glyphs are the visual building blocks used to represent data in a plot. They include shapes like lines, circles, rectangles, bars, and other markers that\n# visually depict data points. Steps to add Glyphs to a Plot:\n# Prepare data.\n# Create a figure using figure().\n# Add a glyph using methods like circle(), line(), rect(), etc., to map data to visual properties.\n\nfrom bokeh.plotting import figure, show\nx = [1, 2, 3, 4, 5]\ny = [6, 7, 2, 4, 5]\n\np = figure(title=\"Example of Glyphs\", x_axis_label='X', y_axis_label='Y')\np.circle(x, y, size=10, color=\"blue\", legend_label=\"Circle Glyph\")\np.line(x, y, line_width=2, color=\"green\", legend_label=\"Line Glyph\")\nshow(p)\n\n",
      "metadata": {
        "trusted": true
      },
      "outputs": [],
      "execution_count": null
    },
    {
      "cell_type": "code",
      "source": "# Q3. How can you customize the appearance of a Bokeh plot, including the axes, title, and legend?\n\nTo customize a Bokeh plot, you can use the following attributes:\n\nTitle: Set figure.title.text, figure.title.text_font_size, figure.title.align, etc., to adjust the plot title.\nAxes: Customize figure.xaxis and figure.yaxis using properties like axis_label, axis_label_text_font_size, major_label_text_font_size, and axis_line_width.\nLegend: Access figure.legend and modify properties like label_text_font_size, orientation, background_fill_color, and border_line_width.\nGeneral Appearance: Use properties like figure.background_fill_color, outline_line_width, and grid.grid_line_color.\nThemes: Apply predefined themes using bokeh.io.curdoc().theme or customize with a JSON file.\n",
      "metadata": {
        "trusted": true
      },
      "outputs": [],
      "execution_count": null
    },
    {
      "cell_type": "code",
      "source": "# Q4. What is a Bokeh server, and how can you use it to create interactive plots that can be updated in real time?\n\n# The Bokeh server enables real-time, interactive web applications by syncing Python and the browser.\n\n# Steps:\n# Define the App: Use Python to create plots and widgets, adding them to a curdoc() document.\n# Callbacks: Attach Python functions to widgets or data streams to handle interactions.\n# Run the Server: Execute bokeh serve script.py and access the app in the browser.\n# Embed (Optional): Integrate with web frameworks like Flask using bokeh.embed.\n\nfrom bokeh.plotting import figure, curdoc\nfrom bokeh.models import Slider\nfrom bokeh.layouts import column\n\nplot = figure(title=\"Interactive Plot\")\nline = plot.line([1, 2, 3, 4], [1, 4, 9, 16])\nslider = Slider(start=0.1, end=5, value=1, step=0.1, title=\"Scale\")\nslider.on_change('value', lambda attr, old, new: line.data_source.data.update(y=[x**2 * new for x in [1, 2, 3, 4]]))\ncurdoc().add_root(column(slider, plot))\n",
      "metadata": {
        "trusted": true
      },
      "outputs": [],
      "execution_count": null
    },
    {
      "cell_type": "code",
      "source": "# Q5. How can you embed a Bokeh plot into a web page or dashboard using Flask or Django?\n\nTo embed a Bokeh plot into a web page or dashboard using Flask or Django:\n\nCreate the Plot: Generate the Bokeh plot and obtain its script and div using Bokeh's components() function.\nPass to Template: Pass the script and div to your web framework's template system.\nEmbed in HTML: Add the script and div to the HTML file to display the plot.\nRender the Page: Use a route or view in Flask/Django to render the page with the plot's script and div.",
      "metadata": {
        "trusted": true
      },
      "outputs": [
        {
          "ename": "<class 'SyntaxError'>",
          "evalue": "invalid syntax (<ipython-input-4-98c000c95eca>, line 3)",
          "traceback": [
            "\u001b[0;36m  Cell \u001b[0;32mIn[4], line 3\u001b[0;36m\u001b[0m\n\u001b[0;31m    To embed a Bokeh plot into a web page or dashboard using Flask or Django:\u001b[0m\n\u001b[0m       ^\u001b[0m\n\u001b[0;31mSyntaxError\u001b[0m\u001b[0;31m:\u001b[0m invalid syntax\n"
          ],
          "output_type": "error"
        }
      ],
      "execution_count": 4
    },
    {
      "cell_type": "code",
      "source": "",
      "metadata": {
        "trusted": true
      },
      "outputs": [],
      "execution_count": null
    }
  ]
}